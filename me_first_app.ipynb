Перша програма на Python

In [1]:
from datetime import datetime
name = "Yura"

print(f"{name} start programming at {datetime.now()}")
Yura start programming at 2022-09-21 21:36:34.452724
